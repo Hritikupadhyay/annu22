{
  "nbformat": 4,
  "nbformat_minor": 0,
  "metadata": {
    "colab": {
      "provenance": []
    },
    "kernelspec": {
      "name": "python3",
      "display_name": "Python 3"
    },
    "language_info": {
      "name": "python"
    }
  },
  "cells": [
    {
      "cell_type": "code",
      "execution_count": 12,
      "metadata": {
        "colab": {
          "base_uri": "https://localhost:8080/"
        },
        "id": "0v-P9GrIaktB",
        "outputId": "c9b72bec-dc0e-46e0-81ea-52fc1bff6d00"
      },
      "outputs": [
        {
          "output_type": "stream",
          "name": "stdout",
          "text": [
            "Enter source code: \n",
            "ADD 20\n",
            "MOV R\n",
            "OR 55\n",
            "MUL R\n",
            "STORE 2000\n",
            "HLT\n",
            "gh\n",
            "ojopj\n",
            "jjkl\n",
            "hlt\n",
            "halt\n",
            "HALT\n",
            "Absolute Address\tObject Code\tALP Instruction\n",
            "1001 \t\t 20 \t\t HALT\n"
          ]
        }
      ],
      "source": [
        "mnemonics_arr = [\"MOV R\", \"ADD R\", \"SUB R\", \"MUL R\", \"DIV R\", \"AND R\", \"OR R\", \"ADD\", \"SUB\", \"MUL\", \"DIV\", \"AND\", \"OR\", \"LOAD\", \"STORE\", \"DCRR\", \"INCR\", \"JMP\", \"JNZ\", \"HALT\"]\n",
        "size_arr = [1, 1, 1, 1, 1, 1, 1, 2, 2, 2, 2, 2, 2, 3, 3, 1, 1, 3, 3, 1]\n",
        "opcode_arr = ['01', '02', '03', '04', '05', '06', '07', '08', '09', '10', '11', '12', '13', '14', '15', '16', '17', '18', '19', '20']\n",
        "\n",
        "source_code = []\n",
        "alp_instruct = []\n",
        "obj_code = []\n",
        "absolute_addr_arr = []\n",
        "absolute_addr = 1000\n",
        "obj_index = 0\n",
        "\n",
        "print('Enter source code: ')\n",
        "cmd = input()\n",
        "source_code.append(cmd)\n",
        "\n",
        "while source_code[-1] != 'HALT':\n",
        "    cmd = input()\n",
        "    source_code.append(cmd)\n",
        "\n",
        "for code in source_code:\n",
        "    mnemonic = 0\n",
        "    code_arr = code.split(' ')\n",
        "\n",
        "if (code_arr[0] == 'ADD' or code_arr[0] == 'SUB' or code_arr[0] == 'MUL' or code_arr[0] == 'DIV' or code_arr[0] == 'AND' or code_arr[0] == 'OR') and code_arr[1] != 'R':\n",
        "    for mnemonic in range(len(mnemonics_arr)):\n",
        "        if mnemonics_arr[mnemonic] == code_arr[0]:\n",
        "            obj_code.append(opcode_arr[mnemonic])\n",
        "            \n",
        "    absolute_addr += 1\n",
        "    absolute_addr_arr.append(absolute_addr)\n",
        "    alp_instruct.append(code)\n",
        "    \n",
        "    absolute_addr += 1\n",
        "    obj_code.append(code_arr[1])\n",
        "    absolute_addr_arr.append(absolute_addr)\n",
        "    alp_instruct.append(' ')\n",
        "    \n",
        "elif (code_arr[0] == 'STORE' or code_arr[0] == 'LOAD' or code_arr[0] == 'JMP' or code_arr[0] == 'JNZ'):\n",
        "    addr1 = ''\n",
        "    addr2 = ''\n",
        "    for k in range(0, len(code_arr[1])):\n",
        "        if(k == 0 or k == 1):\n",
        "            addr1 = addr1 + code_arr[1][k]\n",
        "        if(k == 2 or k == 3):\n",
        "            addr2 = addr2 + code_arr[1][k]\n",
        "            \n",
        "    for mnemonic in range(len(mnemonics_arr)):\n",
        "        if mnemonics_arr[mnemonic] == code_arr[0]:\n",
        "            obj_code.append(opcode_arr[mnemonic])\n",
        "            \n",
        "    absolute_addr += 1\n",
        "    absolute_addr_arr.append(absolute_addr)\n",
        "    alp_instruct.append(code)\n",
        "    \n",
        "    absolute_addr += 1\n",
        "    obj_code.append(addr1)\n",
        "    absolute_addr_arr.append(absolute_addr)\n",
        "    alp_instruct.append(' ')\n",
        "    \n",
        "    absolute_addr += 1\n",
        "    obj_code.append(addr2)\n",
        "    absolute_addr_arr.append(absolute_addr)\n",
        "    alp_instruct.append(' ')\n",
        "    \n",
        "else:\n",
        "    for mnemonic in range(len(mnemonics_arr)):\n",
        "        if mnemonics_arr[mnemonic] == code:\n",
        "            obj_code.append(opcode_arr[mnemonic])\n",
        "            \n",
        "    absolute_addr += 1\n",
        "    alp_instruct.append(code)\n",
        "    alp_instruct.append(code)\n",
        "absolute_addr_arr.append(absolute_addr)\n",
        "print(\"Absolute Address\\tObject Code\\tALP Instruction\")\n",
        "for table in range(len(obj_code)):\n",
        "    print(absolute_addr_arr[table], \"\\t\\t\", obj_code[table], \"\\t\\t\", alp_instruct[table])\n",
        "ADD 20\n",
        "MOV R\n",
        "OR 55\n",
        "MUL R\n",
        "STORE 2000\n",
        "HLT\n"
      ]
    },
    {
      "cell_type": "code",
      "source": [],
      "metadata": {
        "id": "z7pktnpMlQyF"
      },
      "execution_count": null,
      "outputs": []
    }
  ]
}